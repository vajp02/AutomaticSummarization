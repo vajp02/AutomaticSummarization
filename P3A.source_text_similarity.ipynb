{
 "cells": [
  {
   "cell_type": "code",
   "execution_count": 1,
   "id": "26739ce4-5ee2-4659-98e2-0495d6105d1b",
   "metadata": {},
   "outputs": [],
   "source": [
    "from utils.split_embeds import *"
   ]
  },
  {
   "cell_type": "code",
   "execution_count": 2,
   "id": "ee8cbdc3-46cb-41a2-a08b-5115bd519101",
   "metadata": {},
   "outputs": [],
   "source": [
    "#base_model_name = \"./Data/Bert/fine-tuned-bert-2022-02-21-16-20-51\"\n",
    "base_model_name = \"all-mpnet-base-v2\"           # #\"all-mpnet-base-v2\"          #\"paraphrase-multilingual-mpnet-base-v2\" all-mpnet-base-v2\n",
    "IsBaseline = True\n",
    "data_import_path = \"./Data/Preprocessed/data_with_filled_explanations_17.2.2022.pickle\"\n",
    "source_col_name = \"explanation_prep\"  #\"explanation_prep\"  \"statement_explanation_prep\"                     #\"source_text_shorter\"  # \"source_text_shorter\" source_text\n",
    "targer_col_name = \"shortExplanation_prep\"                         #\"target_text\"\n",
    "neighbours = 4\n",
    "data_with_similarity_dir = \"./Data/Similarity/data_{}_{}.pickle\".format(source_col_name,neighbours)\n",
    "data_embeddings_dir = \"./Data/Embeddings/embed_{}_{}.pkl\".format(source_col_name, targer_col_name)\n",
    "min_no_sentence_source_text = 3 "
   ]
  },
  {
   "cell_type": "code",
   "execution_count": 26,
   "id": "3eb66fea-e69f-4a01-a336-e1d0d80ca7e3",
   "metadata": {},
   "outputs": [
    {
     "data": {
      "text/plain": [
       "'A100-SXM4-40GB'"
      ]
     },
     "execution_count": 26,
     "metadata": {},
     "output_type": "execute_result"
    }
   ],
   "source": [
    "torch.cuda.get_device_name(\"cuda:0\")"
   ]
  },
  {
   "cell_type": "code",
   "execution_count": 28,
   "id": "f0885c44-f2e4-4552-9de2-ca90de5134f9",
   "metadata": {},
   "outputs": [
    {
     "data": {
      "text/plain": [
       "12891"
      ]
     },
     "execution_count": 28,
     "metadata": {},
     "output_type": "execute_result"
    }
   ],
   "source": [
    "data = pd.read_pickle(data_import_path)\n",
    "len(data)"
   ]
  },
  {
   "cell_type": "code",
   "execution_count": 29,
   "id": "350816a0-d21a-47af-8d57-1798c41e533a",
   "metadata": {},
   "outputs": [
    {
     "data": {
      "text/html": [
       "<div>\n",
       "<style scoped>\n",
       "    .dataframe tbody tr th:only-of-type {\n",
       "        vertical-align: middle;\n",
       "    }\n",
       "\n",
       "    .dataframe tbody tr th {\n",
       "        vertical-align: top;\n",
       "    }\n",
       "\n",
       "    .dataframe thead th {\n",
       "        text-align: right;\n",
       "    }\n",
       "</style>\n",
       "<table border=\"1\" class=\"dataframe\">\n",
       "  <thead>\n",
       "    <tr style=\"text-align: right;\">\n",
       "      <th></th>\n",
       "      <th>id</th>\n",
       "      <th>statementTokensLength</th>\n",
       "      <th>explanationTokensLength</th>\n",
       "      <th>shortExplanationTokensLength</th>\n",
       "      <th>statementexplanationTokensLength</th>\n",
       "    </tr>\n",
       "  </thead>\n",
       "  <tbody>\n",
       "    <tr>\n",
       "      <th>count</th>\n",
       "      <td>12891.000000</td>\n",
       "      <td>12891.000000</td>\n",
       "      <td>12891.000000</td>\n",
       "      <td>12891.000000</td>\n",
       "      <td>12891.000000</td>\n",
       "    </tr>\n",
       "    <tr>\n",
       "      <th>mean</th>\n",
       "      <td>6491.162672</td>\n",
       "      <td>18.412691</td>\n",
       "      <td>775.487937</td>\n",
       "      <td>85.352416</td>\n",
       "      <td>793.333721</td>\n",
       "    </tr>\n",
       "    <tr>\n",
       "      <th>std</th>\n",
       "      <td>3752.628466</td>\n",
       "      <td>8.066301</td>\n",
       "      <td>288.562379</td>\n",
       "      <td>42.275294</td>\n",
       "      <td>288.266961</td>\n",
       "    </tr>\n",
       "    <tr>\n",
       "      <th>min</th>\n",
       "      <td>1.000000</td>\n",
       "      <td>3.000000</td>\n",
       "      <td>23.000000</td>\n",
       "      <td>2.000000</td>\n",
       "      <td>45.000000</td>\n",
       "    </tr>\n",
       "    <tr>\n",
       "      <th>25%</th>\n",
       "      <td>3241.500000</td>\n",
       "      <td>13.000000</td>\n",
       "      <td>570.000000</td>\n",
       "      <td>58.000000</td>\n",
       "      <td>588.000000</td>\n",
       "    </tr>\n",
       "    <tr>\n",
       "      <th>50%</th>\n",
       "      <td>6481.000000</td>\n",
       "      <td>17.000000</td>\n",
       "      <td>736.000000</td>\n",
       "      <td>80.000000</td>\n",
       "      <td>755.000000</td>\n",
       "    </tr>\n",
       "    <tr>\n",
       "      <th>75%</th>\n",
       "      <td>9744.500000</td>\n",
       "      <td>23.000000</td>\n",
       "      <td>934.000000</td>\n",
       "      <td>106.000000</td>\n",
       "      <td>952.000000</td>\n",
       "    </tr>\n",
       "    <tr>\n",
       "      <th>max</th>\n",
       "      <td>12994.000000</td>\n",
       "      <td>73.000000</td>\n",
       "      <td>2912.000000</td>\n",
       "      <td>1121.000000</td>\n",
       "      <td>2899.000000</td>\n",
       "    </tr>\n",
       "  </tbody>\n",
       "</table>\n",
       "</div>"
      ],
      "text/plain": [
       "                 id  statementTokensLength  explanationTokensLength  \\\n",
       "count  12891.000000           12891.000000             12891.000000   \n",
       "mean    6491.162672              18.412691               775.487937   \n",
       "std     3752.628466               8.066301               288.562379   \n",
       "min        1.000000               3.000000                23.000000   \n",
       "25%     3241.500000              13.000000               570.000000   \n",
       "50%     6481.000000              17.000000               736.000000   \n",
       "75%     9744.500000              23.000000               934.000000   \n",
       "max    12994.000000              73.000000              2912.000000   \n",
       "\n",
       "       shortExplanationTokensLength  statementexplanationTokensLength  \n",
       "count                  12891.000000                      12891.000000  \n",
       "mean                      85.352416                        793.333721  \n",
       "std                       42.275294                        288.266961  \n",
       "min                        2.000000                         45.000000  \n",
       "25%                       58.000000                        588.000000  \n",
       "50%                       80.000000                        755.000000  \n",
       "75%                      106.000000                        952.000000  \n",
       "max                     1121.000000                       2899.000000  "
      ]
     },
     "execution_count": 29,
     "metadata": {},
     "output_type": "execute_result"
    }
   ],
   "source": [
    "data.describe()"
   ]
  },
  {
   "cell_type": "code",
   "execution_count": 30,
   "id": "d111b86c-7b4c-4a0c-afed-640ab8dee644",
   "metadata": {},
   "outputs": [],
   "source": [
    "data = split_data(data, source_col_name, targer_col_name)"
   ]
  },
  {
   "cell_type": "code",
   "execution_count": 31,
   "id": "5e3a3323-c0b6-446d-a32b-b68774728b87",
   "metadata": {},
   "outputs": [
    {
     "data": {
      "text/plain": [
       "465236"
      ]
     },
     "execution_count": 31,
     "metadata": {},
     "output_type": "execute_result"
    }
   ],
   "source": [
    "data_shorter = select_longer_claims(data)\n",
    "len(data_shorter)"
   ]
  },
  {
   "cell_type": "code",
   "execution_count": 32,
   "id": "0166ba73-9ed0-4abb-a20e-0d46147bb2d8",
   "metadata": {},
   "outputs": [],
   "source": [
    "data_shorter.to_pickle(\"Data/backup/data150.pickle\")"
   ]
  },
  {
   "cell_type": "code",
   "execution_count": 33,
   "id": "8a2f16ea-4849-4cd5-a8aa-1828a7a52234",
   "metadata": {},
   "outputs": [],
   "source": [
    "data_shorter = pd.read_pickle(\"Data/backup/data150.pickle\")"
   ]
  },
  {
   "cell_type": "code",
   "execution_count": 34,
   "id": "075491ed-e805-485f-8b6f-9e08b1c99559",
   "metadata": {},
   "outputs": [
    {
     "data": {
      "text/plain": [
       "Index(['id', 'reviewer', 'date', 'statement', 'explanation',\n",
       "       'shortExplanation', 'truth_o_meter', 'tags', 'url', 'statement_prep',\n",
       "       'explanation_prep', 'shortExplanation_prep',\n",
       "       'statement_explanation_prep', 'statementTokensLength',\n",
       "       'explanationTokensLength', 'shortExplanationTokensLength',\n",
       "       'statementexplanationTokensLength', 'label', 'source_text',\n",
       "       'target_text', 'source_text_sentences', 'source_text_sentences_len',\n",
       "       'source_text_sentences_index'],\n",
       "      dtype='object')"
      ]
     },
     "execution_count": 34,
     "metadata": {},
     "output_type": "execute_result"
    }
   ],
   "source": [
    "data_shorter.columns"
   ]
  },
  {
   "cell_type": "code",
   "execution_count": 35,
   "id": "a2028c0c-ae3e-4c5f-95d3-6f33ce40c3bd",
   "metadata": {},
   "outputs": [],
   "source": [
    "#model = SentenceTransformer(base_model_name, device = 'cuda:0')\n",
    "sentences_lst = data_shorter[\"source_text_sentences\"].tolist()"
   ]
  },
  {
   "cell_type": "code",
   "execution_count": 36,
   "id": "9bd9178a-cc32-44e4-9178-f329d33da557",
   "metadata": {},
   "outputs": [
    {
     "data": {
      "text/plain": [
       "465236"
      ]
     },
     "execution_count": 36,
     "metadata": {},
     "output_type": "execute_result"
    }
   ],
   "source": [
    "len(data_shorter)"
   ]
  },
  {
   "cell_type": "code",
   "execution_count": 37,
   "id": "0cb34660-7258-4188-9df1-9f0d22893afa",
   "metadata": {},
   "outputs": [
    {
     "data": {
      "application/vnd.jupyter.widget-view+json": {
       "model_id": "5429691bb4a84d8f922cda62172f2de9",
       "version_major": 2,
       "version_minor": 0
      },
      "text/plain": [
       "Batches:   0%|          | 0/931 [00:00<?, ?it/s]"
      ]
     },
     "metadata": {},
     "output_type": "display_data"
    },
    {
     "name": "stdout",
     "output_type": "stream",
     "text": [
      "Time for creating 465236 embedding vectors 2.740990654627482\n",
      "Model used :all-mpnet-base-v2\n"
     ]
    }
   ],
   "source": [
    "embeddings = embeddings_sentence_bert(sentences_lst, IsBaseline, base_model_name)               #  model.encode(sentences_lst, show_progress_bar=True, batch_size = 500)  "
   ]
  },
  {
   "cell_type": "code",
   "execution_count": 38,
   "id": "2f9ab8d2-a761-444a-80e1-94f7c1ce591f",
   "metadata": {},
   "outputs": [],
   "source": [
    "#with open(data_embeddings_dir, 'wb') as f:\n",
    "#    pickle.dump(embeddings, f)"
   ]
  },
  {
   "cell_type": "markdown",
   "id": "b7affbf7-416c-44d1-b380-619fe9fb6771",
   "metadata": {},
   "source": [
    "## Read data and convert huge numpy array to list of lists"
   ]
  },
  {
   "cell_type": "code",
   "execution_count": 39,
   "id": "7fee74f4-e6c5-4855-b6b6-9b584b3fdbe4",
   "metadata": {},
   "outputs": [],
   "source": [
    "#data_shorter = pd.read_pickle(\"data77.pickle\")\n",
    "#with open(data_embeddings_dir, 'rb') as f:\n",
    "#    embeddings = pickle.load(f)"
   ]
  },
  {
   "cell_type": "code",
   "execution_count": 40,
   "id": "747e2156-f247-45ad-9ebf-80ec3a0b3d0a",
   "metadata": {},
   "outputs": [
    {
     "name": "stderr",
     "output_type": "stream",
     "text": [
      "100%|█████████████████████████████████████████████████████████████████████████████████████████████████████████████████████████████████████████████████████████████████████████████████████| 465236/465236 [00:00<00:00, 792851.69it/s]\n"
     ]
    }
   ],
   "source": [
    "data = pd.DataFrame([[i] for i in tqdm(embeddings)]).rename(columns={0:'source_text_sentences_embed_base'})"
   ]
  },
  {
   "cell_type": "code",
   "execution_count": 41,
   "id": "6a89d9bd-9d87-4649-a0e9-43c72587b105",
   "metadata": {},
   "outputs": [],
   "source": [
    "data_shorter = pd.concat([data_shorter.reset_index(), data.reset_index()], axis=1)"
   ]
  },
  {
   "cell_type": "code",
   "execution_count": 42,
   "id": "42a4905b-05ea-4bc3-9668-84852beae3d6",
   "metadata": {},
   "outputs": [],
   "source": [
    "#data_shorter"
   ]
  },
  {
   "cell_type": "code",
   "execution_count": 43,
   "id": "493a810b-7eaf-429e-a31a-b96c0f2eb3a7",
   "metadata": {},
   "outputs": [],
   "source": [
    "lof = LocalOutlierFactor(n_neighbors = neighbours, metric = 'cosine')"
   ]
  },
  {
   "cell_type": "code",
   "execution_count": 44,
   "id": "e1845260-41c2-48aa-b9d2-b65c1208716e",
   "metadata": {},
   "outputs": [],
   "source": [
    "from tqdm import tqdm\n",
    "tqdm.pandas()"
   ]
  },
  {
   "cell_type": "code",
   "execution_count": 45,
   "id": "3ef7908d-1460-45e9-97f4-d9b7c4759313",
   "metadata": {},
   "outputs": [
    {
     "name": "stderr",
     "output_type": "stream",
     "text": [
      "100%|█████████████████████████████████████████████████████████████████████████████████████████████████████████████████████████████████████████████████████████████████████████████████████████| 12891/12891 [00:11<00:00, 1144.48it/s]\n"
     ]
    }
   ],
   "source": [
    "data_shorter[\"LOF_base\"] = data_shorter.groupby('id',sort = False)['source_text_sentences_embed_base'].progress_apply(get_lof_score).explode().to_list()\n",
    "data_shorter.to_pickle(data_with_similarity_dir)"
   ]
  },
  {
   "cell_type": "code",
   "execution_count": 46,
   "id": "b1e98de5-3a33-47ce-9e78-7c6267e830ba",
   "metadata": {},
   "outputs": [
    {
     "data": {
      "text/plain": [
       "Index(['index', 'id', 'reviewer', 'date', 'statement', 'explanation',\n",
       "       'shortExplanation', 'truth_o_meter', 'tags', 'url', 'statement_prep',\n",
       "       'explanation_prep', 'shortExplanation_prep',\n",
       "       'statement_explanation_prep', 'statementTokensLength',\n",
       "       'explanationTokensLength', 'shortExplanationTokensLength',\n",
       "       'statementexplanationTokensLength', 'label', 'source_text',\n",
       "       'target_text', 'source_text_sentences', 'source_text_sentences_len',\n",
       "       'source_text_sentences_index', 'index',\n",
       "       'source_text_sentences_embed_base', 'LOF_base'],\n",
       "      dtype='object')"
      ]
     },
     "execution_count": 46,
     "metadata": {},
     "output_type": "execute_result"
    }
   ],
   "source": [
    "data_shorter.columns"
   ]
  },
  {
   "cell_type": "markdown",
   "id": "380b8638-591b-4a07-8efa-2f703b6444a6",
   "metadata": {},
   "source": [
    "# In case we have big data "
   ]
  },
  {
   "cell_type": "markdown",
   "id": "22177bb3-eb59-474c-a60f-8949e3da516c",
   "metadata": {},
   "source": [
    "## Concatenate without embeddings (if too big numpy array)"
   ]
  },
  {
   "cell_type": "code",
   "execution_count": 2,
   "id": "db9e47bf-9e3f-4f3b-9145-66f3c42bb6c2",
   "metadata": {},
   "outputs": [],
   "source": [
    "data  = pd.read_pickle(\"./Data/Similarity/data_whole_title_embed_text_title_30K.pickle\")\n",
    "data_shorter  = pd.read_pickle(\"./Data/Similarity/data_whole_title_embed_text_title_150K.pickle\")"
   ]
  },
  {
   "cell_type": "code",
   "execution_count": 3,
   "id": "9e066ee3-fcd0-44d9-aada-1256359f9156",
   "metadata": {},
   "outputs": [],
   "source": [
    "data = data[data.type != \"train\"]"
   ]
  },
  {
   "cell_type": "code",
   "execution_count": 4,
   "id": "fbdc3023-a692-4643-964c-04f81047d38e",
   "metadata": {},
   "outputs": [],
   "source": [
    "data.drop('source_text_sentences_embed_base', inplace=True, axis=1)\n",
    "data_shorter.drop('source_text_sentences_embed_base', inplace=True, axis=1)"
   ]
  },
  {
   "cell_type": "code",
   "execution_count": 6,
   "id": "216ca27e-adbd-421c-adfa-a5563f22c27e",
   "metadata": {},
   "outputs": [],
   "source": [
    "data_res = pd.concat([data, data_shorter], axis=0)"
   ]
  },
  {
   "cell_type": "code",
   "execution_count": 10,
   "id": "7f10c593-4383-480b-bf54-7b5c003d5767",
   "metadata": {},
   "outputs": [],
   "source": [
    "data_res.to_pickle(data_with_similarity_dir)"
   ]
  },
  {
   "cell_type": "code",
   "execution_count": null,
   "id": "bfc167ed-b094-4543-960e-6486a587bd6c",
   "metadata": {},
   "outputs": [],
   "source": []
  }
 ],
 "metadata": {
  "kernelspec": {
   "display_name": "Python 3",
   "language": "python",
   "name": "python3"
  },
  "language_info": {
   "codemirror_mode": {
    "name": "ipython",
    "version": 3
   },
   "file_extension": ".py",
   "mimetype": "text/x-python",
   "name": "python",
   "nbconvert_exporter": "python",
   "pygments_lexer": "ipython3",
   "version": "3.9.7"
  }
 },
 "nbformat": 4,
 "nbformat_minor": 5
}
