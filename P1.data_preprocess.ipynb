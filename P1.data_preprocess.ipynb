{
 "cells": [
  {
   "cell_type": "code",
   "execution_count": 1,
   "metadata": {},
   "outputs": [
    {
     "name": "stdout",
     "output_type": "stream",
     "text": [
      "display.max_colwidth : int or None\n",
      "    The maximum width in characters of a column in the repr of\n",
      "    a pandas data structure. When the column overflows, a \"...\"\n",
      "    placeholder is embedded in the output. A 'None' value means unlimited.\n",
      "    [default: 50] [currently: 400]\n"
     ]
    }
   ],
   "source": [
    "from utils.preprocess import *"
   ]
  },
  {
   "cell_type": "code",
   "execution_count": 2,
   "metadata": {},
   "outputs": [],
   "source": [
    "import_path = \"./Data/Raw/data_with_filled_explanations_17.2.2022.pickle\"\n",
    "export_path = \"./Data/Preprocessed/data_with_filled_explanations_17.2.2022_no_duplicates_preprocessed.pickle\""
   ]
  },
  {
   "cell_type": "code",
   "execution_count": null,
   "metadata": {},
   "outputs": [],
   "source": [
    "raw_data = pd.read_pickle(import_path)"
   ]
  },
  {
   "cell_type": "code",
   "execution_count": null,
   "metadata": {},
   "outputs": [],
   "source": [
    "raw_data.columns"
   ]
  },
  {
   "cell_type": "code",
   "execution_count": 3,
   "metadata": {},
   "outputs": [
    {
     "data": {
      "text/plain": [
       "'Please can you strip me? I am waiting....'"
      ]
     },
     "execution_count": 3,
     "metadata": {},
     "output_type": "execute_result"
    }
   ],
   "source": [
    "html_str = '''\n",
    "<td><a href=\"http://www.fakewebsite.com\">Please can you strip me?</a>\n",
    "<br/><a href=\"http://www.fakewebsite.com\">I am waiting....</a>\n",
    "</td>\n",
    "'''\n",
    "preprocess(html_str)"
   ]
  },
  {
   "cell_type": "code",
   "execution_count": 5,
   "metadata": {},
   "outputs": [
    {
     "data": {
      "text/plain": [
       "'Please can you strip me? I am waiting....'"
      ]
     },
     "execution_count": 5,
     "metadata": {},
     "output_type": "execute_result"
    }
   ],
   "source": [
    "preprocess_explanation(html_str)"
   ]
  },
  {
   "cell_type": "code",
   "execution_count": 7,
   "metadata": {},
   "outputs": [
    {
     "name": "stderr",
     "output_type": "stream",
     "text": [
      "100%|████████████████████████████████████████████████████████████████████████████████████████████████████████████████████████████████████████████████████████████████████████████████████████| 12985/12985 [00:00<00:00, 66778.78it/s]\n"
     ]
    },
    {
     "name": "stdout",
     "output_type": "stream",
     "text": [
      "statement_prep\n"
     ]
    },
    {
     "name": "stderr",
     "output_type": "stream",
     "text": [
      "100%|█████████████████████████████████████████████████████████████████████████████████████████████████████████████████████████████████████████████████████████████████████████████████████████| 12985/12985 [00:03<00:00, 3338.32it/s]\n"
     ]
    },
    {
     "name": "stdout",
     "output_type": "stream",
     "text": [
      "explanation_prep\n"
     ]
    },
    {
     "name": "stderr",
     "output_type": "stream",
     "text": [
      "100%|███████████████████████████████████████████████████████████████████████████████████████████████████████████████████████████████████████████████████████████████████████████████████████████| 12985/12985 [09:02<00:00, 23.94it/s]\n"
     ]
    },
    {
     "name": "stdout",
     "output_type": "stream",
     "text": [
      "shortExplanation_prep\n"
     ]
    }
   ],
   "source": [
    "tqdm.pandas()\n",
    "raw_data['statement_prep'] = raw_data['statement'].progress_apply(lambda x : preprocess(x))\n",
    "print('statement_prep')\n",
    "raw_data['explanation_prep'] = raw_data['explanation'].progress_apply(lambda x : preprocess(x))\n",
    "print('explanation_prep')\n",
    "raw_data['shortExplanation_prep'] = raw_data['shortExplanation'].progress_apply(lambda x : preprocess_explanation(x))\n",
    "print('shortExplanation_prep')\n",
    "raw_data['statement_explanation_prep'] = raw_data['statement'] + raw_data['explanation']\n",
    "#raw_data['statement_explanation_prep'] = raw_data['statement_explanation'].apply(lambda x : preprocess(x))\n",
    "\n",
    "raw_data['statementTokensLength'] = raw_data['statement_prep'].str.split(\" \").str.len()\n",
    "raw_data['explanationTokensLength'] = raw_data['explanation_prep'].str.split(\" \").str.len()\n",
    "raw_data['shortExplanationTokensLength'] = raw_data['shortExplanation_prep'].str.split(\" \").str.len()\n",
    "raw_data['statementexplanationTokensLength'] = raw_data['statement_explanation_prep'].str.split(\" \").str.len()"
   ]
  },
  {
   "cell_type": "code",
   "execution_count": 8,
   "metadata": {},
   "outputs": [],
   "source": [
    "raw_data = raw_data[(raw_data.statement_prep != \"\") & (raw_data.explanation_prep != \"\") & (raw_data.shortExplanation_prep != \"\")]"
   ]
  },
  {
   "cell_type": "code",
   "execution_count": 19,
   "metadata": {},
   "outputs": [
    {
     "data": {
      "text/html": [
       "<div>\n",
       "<style scoped>\n",
       "    .dataframe tbody tr th:only-of-type {\n",
       "        vertical-align: middle;\n",
       "    }\n",
       "\n",
       "    .dataframe tbody tr th {\n",
       "        vertical-align: top;\n",
       "    }\n",
       "\n",
       "    .dataframe thead th {\n",
       "        text-align: right;\n",
       "    }\n",
       "</style>\n",
       "<table border=\"1\" class=\"dataframe\">\n",
       "  <thead>\n",
       "    <tr style=\"text-align: right;\">\n",
       "      <th></th>\n",
       "      <th>id</th>\n",
       "      <th>reviewer</th>\n",
       "      <th>date</th>\n",
       "      <th>statement</th>\n",
       "      <th>explanation</th>\n",
       "      <th>shortExplanation</th>\n",
       "      <th>truth_o_meter</th>\n",
       "      <th>tags</th>\n",
       "      <th>url</th>\n",
       "      <th>statement_prep</th>\n",
       "      <th>explanation_prep</th>\n",
       "      <th>shortExplanation_prep</th>\n",
       "      <th>statement_explanation_prep</th>\n",
       "      <th>statementTokensLength</th>\n",
       "      <th>explanationTokensLength</th>\n",
       "      <th>shortExplanationTokensLength</th>\n",
       "      <th>statementexplanationTokensLength</th>\n",
       "    </tr>\n",
       "  </thead>\n",
       "  <tbody>\n",
       "  </tbody>\n",
       "</table>\n",
       "</div>"
      ],
      "text/plain": [
       "Empty DataFrame\n",
       "Columns: [id, reviewer, date, statement, explanation, shortExplanation, truth_o_meter, tags, url, statement_prep, explanation_prep, shortExplanation_prep, statement_explanation_prep, statementTokensLength, explanationTokensLength, shortExplanationTokensLength, statementexplanationTokensLength]\n",
       "Index: []"
      ]
     },
     "execution_count": 19,
     "metadata": {},
     "output_type": "execute_result"
    }
   ],
   "source": [
    "raw_data[raw_data.shortExplanation_prep == \"\"]"
   ]
  },
  {
   "cell_type": "code",
   "execution_count": 13,
   "metadata": {},
   "outputs": [
    {
     "data": {
      "text/plain": [
       "12891"
      ]
     },
     "execution_count": 13,
     "metadata": {},
     "output_type": "execute_result"
    }
   ],
   "source": [
    "len(raw_data)"
   ]
  },
  {
   "cell_type": "code",
   "execution_count": 10,
   "metadata": {},
   "outputs": [],
   "source": [
    "raw_data.to_pickle(export_path)"
   ]
  },
  {
   "cell_type": "code",
   "execution_count": null,
   "metadata": {},
   "outputs": [],
   "source": []
  },
  {
   "cell_type": "code",
   "execution_count": null,
   "metadata": {},
   "outputs": [],
   "source": []
  },
  {
   "cell_type": "code",
   "execution_count": null,
   "metadata": {},
   "outputs": [],
   "source": []
  },
  {
   "cell_type": "code",
   "execution_count": null,
   "metadata": {},
   "outputs": [],
   "source": []
  },
  {
   "cell_type": "code",
   "execution_count": null,
   "metadata": {},
   "outputs": [],
   "source": []
  },
  {
   "cell_type": "code",
   "execution_count": null,
   "metadata": {},
   "outputs": [],
   "source": []
  }
 ],
 "metadata": {
  "colab": {
   "authorship_tag": "ABX9TyO8oEIPGp9P5Om4cnbyoykm",
   "collapsed_sections": [],
   "name": "2.Preprocess_Data",
   "provenance": []
  },
  "kernelspec": {
   "display_name": "Python 3",
   "language": "python",
   "name": "python3"
  },
  "language_info": {
   "codemirror_mode": {
    "name": "ipython",
    "version": 3
   },
   "file_extension": ".py",
   "mimetype": "text/x-python",
   "name": "python",
   "nbconvert_exporter": "python",
   "pygments_lexer": "ipython3",
   "version": "3.9.7"
  }
 },
 "nbformat": 4,
 "nbformat_minor": 4
}
