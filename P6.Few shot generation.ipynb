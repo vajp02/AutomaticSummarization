{
 "cells": [
  {
   "cell_type": "code",
   "execution_count": 1,
   "id": "c68cf748-d316-46ce-a9e5-5085a833368f",
   "metadata": {},
   "outputs": [],
   "source": [
    "from utils.t5 import *"
   ]
  },
  {
   "cell_type": "code",
   "execution_count": 2,
   "id": "665d07ec-920b-46f0-891d-ff33f6a093d2",
   "metadata": {},
   "outputs": [],
   "source": [
    "input_model_name = \"d-t5-source_text_shorter_LOF_base_0.11_data_explanation_prep_4.pickle\"\n",
    "input_data_name = \"LOF_base_0.11_data_explanation_prep_4.pickle\"  \n",
    "\n",
    "input_model_dir = \"./Data/Models/\"\n",
    "input_data_dir = \"./Data/Selection/\"\n",
    "output_dir = \"./Data/Generation/\"\n",
    "source_column = \"source_text_shorter\"          #source_text_shorter       #\"statement_explanation_prep\"                          #\"statement_explanation_prep\"  \"explanation_prep\"   # \"source_text_shorter\" \"source_text\"\n",
    "generated_column = \"automatic_text\"                           # \"automatic_text\"\n",
    "model_type = \"t5\"\n",
    "batch_size = 30 # 50\n",
    "no_workers = 6\n",
    "\n",
    "input_data_path = \"{}{}\".format(input_data_dir, input_data_name)\n",
    "new_data_path = \"{}generated_{}.pickle\".format(output_dir,input_model_name)\n",
    "input_model_path = \"{}{}\".format(input_model_dir,input_model_name)"
   ]
  },
  {
   "cell_type": "code",
   "execution_count": 36,
   "id": "95519ace-288a-45f6-a407-d92a27390b89",
   "metadata": {},
   "outputs": [
    {
     "data": {
      "text/plain": [
       "'A100-SXM4-40GB'"
      ]
     },
     "execution_count": 36,
     "metadata": {},
     "output_type": "execute_result"
    }
   ],
   "source": [
    "torch.cuda.get_device_name(0)"
   ]
  },
  {
   "cell_type": "code",
   "execution_count": 38,
   "id": "4af7fbde-14a2-43cc-8922-07d599e7e08d",
   "metadata": {},
   "outputs": [],
   "source": [
    "data = pd.read_pickle(input_data_path)"
   ]
  },
  {
   "cell_type": "code",
   "execution_count": 39,
   "id": "48bf5e93-71e0-478d-a1a6-0182bfb4fdac",
   "metadata": {},
   "outputs": [],
   "source": [
    "train, dev_test = train_test_split(data, test_size = 0.2, random_state = 42)\n",
    "dev, test = train_test_split(dev_test, test_size = 0.5, random_state = 42)"
   ]
  },
  {
   "cell_type": "code",
   "execution_count": 41,
   "id": "d0f589c3-e6dd-4f55-843e-3d5d81d783eb",
   "metadata": {},
   "outputs": [],
   "source": [
    "import gc\n",
    "#del data, model\n",
    "gc.collect()\n",
    "import torch\n",
    "torch.cuda.empty_cache()"
   ]
  },
  {
   "cell_type": "code",
   "execution_count": 42,
   "id": "d5a315e5-e0d0-4140-a2cd-ecf5fd04d84d",
   "metadata": {},
   "outputs": [],
   "source": [
    "model = SimpleT5()"
   ]
  },
  {
   "cell_type": "code",
   "execution_count": 43,
   "id": "98de7c70-9687-4229-ba96-b217f9cdd160",
   "metadata": {},
   "outputs": [
    {
     "data": {
      "text/plain": [
       "'./Data/Models/d-t5-source_text_shorter_LOF_base_0.11_data_explanation_prep_4.pickle'"
      ]
     },
     "execution_count": 43,
     "metadata": {},
     "output_type": "execute_result"
    }
   ],
   "source": [
    "input_model_path"
   ]
  },
  {
   "cell_type": "code",
   "execution_count": 44,
   "id": "7769490e-4bec-4f48-a1c3-c8bad71a547a",
   "metadata": {},
   "outputs": [],
   "source": [
    "model.load_model(model_type, input_model_path, use_gpu = True)"
   ]
  },
  {
   "cell_type": "code",
   "execution_count": 48,
   "id": "b0c80fef-9bc9-4747-8fa8-54085485f6e8",
   "metadata": {},
   "outputs": [
    {
     "name": "stdout",
     "output_type": "stream",
     "text": [
      "1290\n"
     ]
    },
    {
     "data": {
      "application/vnd.jupyter.widget-view+json": {
       "model_id": "9429e3fcd141405c898c0613355b0405",
       "version_major": 2,
       "version_minor": 0
      },
      "text/plain": [
       "  0%|          | 0/43 [00:00<?, ?it/s]"
      ]
     },
     "metadata": {},
     "output_type": "display_data"
    }
   ],
   "source": [
    "input_data = test[source_column].to_list()\n",
    "print(len(input_data))\n",
    "automatic_lst = model.predict(input_data, batch_size = batch_size)"
   ]
  },
  {
   "cell_type": "code",
   "execution_count": 49,
   "id": "2c7362ef-4cc7-4a96-9cbb-5823f4ed8b34",
   "metadata": {},
   "outputs": [
    {
     "data": {
      "text/plain": [
       "'./Data/Generation/generated_d-t5-source_text_shorter_LOF_base_0.11_data_explanation_prep_4.pickle.pickle'"
      ]
     },
     "execution_count": 49,
     "metadata": {},
     "output_type": "execute_result"
    }
   ],
   "source": [
    "new_data_path"
   ]
  },
  {
   "cell_type": "code",
   "execution_count": 50,
   "id": "d351448e-3504-42fb-9792-67dc97ce4eb8",
   "metadata": {},
   "outputs": [
    {
     "name": "stdout",
     "output_type": "stream",
     "text": [
      "1290\n"
     ]
    }
   ],
   "source": [
    "test[generated_column] = automatic_lst\n",
    "print(len(test))\n",
    "test.to_pickle(new_data_path)"
   ]
  },
  {
   "cell_type": "code",
   "execution_count": null,
   "id": "d9dd2580-7741-4478-b9ac-7c43619d92a3",
   "metadata": {},
   "outputs": [],
   "source": []
  },
  {
   "cell_type": "code",
   "execution_count": null,
   "id": "712e82af-a083-44b6-be8a-0dc80c7ce3f2",
   "metadata": {},
   "outputs": [],
   "source": []
  },
  {
   "cell_type": "code",
   "execution_count": null,
   "id": "f7a43a10-8aa0-42e8-b87e-497d7023f8d6",
   "metadata": {},
   "outputs": [],
   "source": []
  },
  {
   "cell_type": "code",
   "execution_count": null,
   "id": "6cb6e325-407c-4bfa-b9ad-1f2c0ab0fe62",
   "metadata": {},
   "outputs": [],
   "source": []
  },
  {
   "cell_type": "code",
   "execution_count": null,
   "id": "a1237d37-facd-4144-b627-3ba7d02cfdc2",
   "metadata": {},
   "outputs": [],
   "source": []
  },
  {
   "cell_type": "markdown",
   "id": "073d56c5-d375-4b88-933f-d37051c93f83",
   "metadata": {},
   "source": [
    "## Test of parallel processing "
   ]
  },
  {
   "cell_type": "markdown",
   "id": "96083a91-050d-4788-88f7-2271b9f53e0f",
   "metadata": {},
   "source": [
    "### GPU"
   ]
  },
  {
   "cell_type": "code",
   "execution_count": null,
   "id": "26e3b377-719f-411a-8d79-d98c47c3a7ed",
   "metadata": {},
   "outputs": [],
   "source": [
    "from torch.multiprocessing import Pool, Process, set_start_method\n",
    "try:\n",
    "     set_start_method('spawn')\n",
    "except RuntimeError:\n",
    "    pass\n",
    "\n",
    "data = test[source_column].to_list()[0:100]\n",
    "\n",
    "cpus = 4 #multiprocessing.cpu_count()\n",
    "\n",
    "\n",
    "def m_predict(n):\n",
    "    model.predict(n)\n",
    "\n",
    "pool  = Pool(cpus)\n",
    "automatic_lst = pool.map(m_predict, tqdm(data))"
   ]
  },
  {
   "cell_type": "code",
   "execution_count": null,
   "id": "a5c7b49d-5f94-49ce-b100-f3e83d0fba03",
   "metadata": {},
   "outputs": [],
   "source": [
    "from torch.multiprocessing import set_start_method\n",
    "set_start_method('spawn')"
   ]
  },
  {
   "cell_type": "markdown",
   "id": "6c2d0d50-5cca-45e1-88e1-153c27667d78",
   "metadata": {},
   "source": [
    "### CPU"
   ]
  },
  {
   "cell_type": "code",
   "execution_count": null,
   "id": "386c59ed-3d1a-4127-8383-ced1fc41e121",
   "metadata": {},
   "outputs": [],
   "source": [
    "import multiprocessing\n",
    "\n",
    "cpus = multiprocessing.cpu_count()\n",
    "data = test[source_column].to_list()\n",
    "\n",
    "\n",
    "def m_predict(n):\n",
    "    model.predict(n)\n",
    "    print(\"done\")\n",
    "\n",
    "pool = multiprocessing.Pool(processes=cpus)  # \n",
    "pool.map(m_predict, tqdm(data)) #automatic_lst = "
   ]
  },
  {
   "cell_type": "code",
   "execution_count": null,
   "id": "8b4ef1b1-7146-47f7-8b33-b0e41fa5c509",
   "metadata": {},
   "outputs": [],
   "source": [
    "#data = test[source_column].to_list()\n",
    "#automatic_lst = [model.predict(i) for i in tqdm(data)]"
   ]
  },
  {
   "cell_type": "code",
   "execution_count": null,
   "id": "86444668-5fbd-4e0b-8b7e-22101599cc71",
   "metadata": {},
   "outputs": [],
   "source": [
    "#test = test[[\"statement\",\"label\",\"explanation_prep\",\"shortExplanation_prep\"]]\n",
    "test[generated_column] = automatic_lst\n",
    "test.to_pickle(new_data_path)"
   ]
  },
  {
   "cell_type": "code",
   "execution_count": null,
   "id": "b8a90154-0e75-40da-ab31-6ed9d10a4b58",
   "metadata": {},
   "outputs": [],
   "source": []
  },
  {
   "cell_type": "code",
   "execution_count": null,
   "id": "9b3abd9b-db43-40d4-b20d-b4b3a3fc12bc",
   "metadata": {},
   "outputs": [],
   "source": []
  },
  {
   "cell_type": "code",
   "execution_count": null,
   "id": "9988a422-a01d-4fd6-b83f-518476a3ef9e",
   "metadata": {},
   "outputs": [],
   "source": []
  },
  {
   "cell_type": "code",
   "execution_count": null,
   "id": "12e910f3-a3d2-4e91-9f45-d2c7c1ff6596",
   "metadata": {},
   "outputs": [],
   "source": []
  },
  {
   "cell_type": "code",
   "execution_count": null,
   "id": "4f771213-f96f-498c-8921-ba763795f326",
   "metadata": {},
   "outputs": [],
   "source": []
  }
 ],
 "metadata": {
  "kernelspec": {
   "display_name": "Python 3",
   "language": "python",
   "name": "python3"
  },
  "language_info": {
   "codemirror_mode": {
    "name": "ipython",
    "version": 3
   },
   "file_extension": ".py",
   "mimetype": "text/x-python",
   "name": "python",
   "nbconvert_exporter": "python",
   "pygments_lexer": "ipython3",
   "version": "3.9.7"
  }
 },
 "nbformat": 4,
 "nbformat_minor": 5
}
